{
 "cells": [
  {
   "cell_type": "code",
   "execution_count": 1,
   "metadata": {},
   "outputs": [],
   "source": [
    "from motion.BVH import BVH as BVH\n",
    "from net.quat import quat\n",
    "from net.euler import euler\n",
    "import numpy as np\n",
    "filename = \"./data/Horse/02/run.bvh\"\n",
    "filename2 = \"./data/Human/016/16_16.bvh\"\n",
    "\n",
    "horse_skeleton = BVH.load(filename)     \n",
    "human_skeleton = BVH.load(filename2)"
   ]
  },
  {
   "cell_type": "code",
   "execution_count": 2,
   "metadata": {},
   "outputs": [],
   "source": [
    "centaur_skeleton = horse_skeleton\n",
    "centaur_skeleton.root.children[0].children[0].children[0].children[0].children[0] = human_skeleton.root.children[2]"
   ]
  },
  {
   "cell_type": "code",
   "execution_count": 3,
   "metadata": {},
   "outputs": [],
   "source": [
    "human_skeleton.calculate_global_positions(human_skeleton.root)\n",
    "horse_skeleton.calculate_global_positions(horse_skeleton.root)\n",
    "centaur_skeleton.calculate_global_positions(centaur_skeleton.root)"
   ]
  },
  {
   "cell_type": "code",
   "execution_count": 30,
   "metadata": {},
   "outputs": [],
   "source": [
    "def extract_hierarchy(bvh_file, skeleton):\n",
    "    for child in skeleton:\n",
    "        if \"End\" in child.name:\n",
    "            bvh_file.write(\"End Site\")\n",
    "            bvh_file.write(\"{\\n\")\n",
    "            bvh_file.write(f\"OFFSET {float(child.offsets[0])} {float(child.offsets[1])} {float(child.offsets[2])}\\n\")\n",
    "            bvh_file.write(\"}\\n\")\n",
    "            return\n",
    "        else:\n",
    "            bvh_file.write(f\"JOINT {child.name}\\n\")\n",
    "            bvh_file.write(\"{\\n\")\n",
    "            bvh_file.write(f\"OFFSET {float(child.offsets[0])} {float(child.offsets[1])} {float(child.offsets[2])}\\n\")\n",
    "            bvh_file.write(f\"CHANNELS {len(child.channels)} {child.channels[0]} {child.channels[1]} {child.channels[2]}\\n\")\n",
    "            extract_hierarchy(bvh_file, child.children)\n",
    "            bvh_file.write(\"}\\n\")\n",
    "        \n",
    "        \n",
    "\n"
   ]
  },
  {
   "cell_type": "code",
   "execution_count": 39,
   "metadata": {},
   "outputs": [],
   "source": [
    "def extract_motion(skeleton, frame, frame_data):\n",
    "    if(len(frame_data) == 0):\n",
    "        frame_data.append(skeleton.rotations[frame])\n",
    "    for child in skeleton.children:\n",
    "        if(\"End\" in child.name):\n",
    "            return\n",
    "        frame_data.append(child.rotations[frame])\n",
    "        extract_motion(child, frame, frame_data)     \n"
   ]
  },
  {
   "cell_type": "code",
   "execution_count": 53,
   "metadata": {},
   "outputs": [],
   "source": [
    "import re\n",
    "\n",
    "\n",
    "def write_bvh_file(filename, skeleton):\n",
    "    with open(filename, 'w') as bvh_file:\n",
    "        # Write BVH header\n",
    "        bvh_file.write(\"HIERARCHY\\n\")\n",
    "        bvh_file.write(\"ROOT \" + skeleton.root.name + \"\\n\")\n",
    "        bvh_file.write(\"{\\n\")\n",
    "\n",
    "        bvh_file.write(f\"OFFSET {float(skeleton.root.offsets[0])} {float(skeleton.root.offsets[1])} {float(skeleton.root.offsets[2])} \\n\")\n",
    "        bvh_file.write(f\"CHANNELS {len(skeleton.root.channels)} {skeleton.root.channels[0]} {skeleton.root.channels[1]} {skeleton.root.channels[2]} {skeleton.root.channels[3]} {skeleton.root.channels[4]} {skeleton.root.channels[5]}\\n\")\n",
    "        \n",
    "        # Write joint hierarchy\n",
    "        extract_hierarchy(bvh_file, skeleton.root.children)\n",
    "        bvh_file.write(\"}\\n\")\n",
    "        \n",
    "        # Write motion data\n",
    "        bvh_file.write(\"MOTION\\n\")\n",
    "        bvh_file.write(f\"Frames: {int(skeleton.nframes)}\\n\")\n",
    "        bvh_file.write(f\"Frame Times: {float(skeleton.frame_time)}\\n\")\n",
    "        \n",
    "        frame_data = []\n",
    "\n",
    "        for frame in range(skeleton.nframes):\n",
    "            extract_motion(skeleton.root, frame, frame_data)\n",
    "            frame_data = re.sub('[\\[\\]]', '', str(frame_data))\n",
    "            bvh_file.write(f\"{str(frame_data)}\\n\")\n",
    "            frame_data = []\n",
    "\n",
    "       \n",
    "\n"
   ]
  },
  {
   "cell_type": "code",
   "execution_count": 54,
   "metadata": {},
   "outputs": [],
   "source": [
    "write_bvh_file(\"test.bvh\", centaur_skeleton)"
   ]
  }
 ],
 "metadata": {
  "kernelspec": {
   "display_name": "Animotion",
   "language": "python",
   "name": "python3"
  },
  "language_info": {
   "codemirror_mode": {
    "name": "ipython",
    "version": 3
   },
   "file_extension": ".py",
   "mimetype": "text/x-python",
   "name": "python",
   "nbconvert_exporter": "python",
   "pygments_lexer": "ipython3",
   "version": "3.11.4"
  },
  "orig_nbformat": 4
 },
 "nbformat": 4,
 "nbformat_minor": 2
}
