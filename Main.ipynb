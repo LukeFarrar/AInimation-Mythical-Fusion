{
 "cells": [
  {
   "cell_type": "code",
   "execution_count": 1,
   "metadata": {},
   "outputs": [
    {
     "name": "stdout",
     "output_type": "stream",
     "text": [
      "{'Hips': 'Head_End', 'Spine1': 'RightHandIndex1_End', 'LeftHand': 'LThumb_End', 'RightHand': 'RThumb_End'}\n",
      "{'Hips': 'Head_End', 'Spine1': 'RightHandIndex1_End', 'LeftHand': 'LThumb_End', 'RightHand': 'RThumb_End'}\n"
     ]
    },
    {
     "ename": "KeyError",
     "evalue": "1",
     "output_type": "error",
     "traceback": [
      "\u001b[1;31m---------------------------------------------------------------------------\u001b[0m",
      "\u001b[1;31mKeyError\u001b[0m                                  Traceback (most recent call last)",
      "Cell \u001b[1;32mIn[1], line 9\u001b[0m\n\u001b[0;32m      6\u001b[0m filename2 \u001b[39m=\u001b[39m \u001b[39m\"\u001b[39m\u001b[39m./data/Human/016/16_16.bvh\u001b[39m\u001b[39m\"\u001b[39m\n\u001b[0;32m      8\u001b[0m \u001b[39m#horse_skeleton = BVH.load(filename)     \u001b[39;00m\n\u001b[1;32m----> 9\u001b[0m human_skeleton \u001b[39m=\u001b[39m BVH\u001b[39m.\u001b[39;49mload(filename2)\n",
      "File \u001b[1;32md:\\Files\\PhD Projects\\Animotion-Paper1\\motion\\BVH.py:40\u001b[0m, in \u001b[0;36mBVH.load\u001b[1;34m(filename)\u001b[0m\n\u001b[0;32m     34\u001b[0m     skeleton \u001b[39m=\u001b[39m graph(nframes, frame_time)\n\u001b[0;32m     36\u001b[0m     name, offsets, nchannels, channels, parents \u001b[39m=\u001b[39m BVH\u001b[39m.\u001b[39mextract_joint_hierarchy(\n\u001b[0;32m     37\u001b[0m         lines\n\u001b[0;32m     38\u001b[0m     )\n\u001b[1;32m---> 40\u001b[0m     skeleton\u001b[39m.\u001b[39;49mcreate_graph(name, offsets, channels, motion_data, parents)\n\u001b[0;32m     42\u001b[0m \u001b[39mreturn\u001b[39;00m skeleton\n",
      "File \u001b[1;32md:\\Files\\PhD Projects\\Animotion-Paper1\\net\\graph.py:87\u001b[0m, in \u001b[0;36mgraph.create_graph\u001b[1;34m(self, joints, offsets, channels, motion_data, parents)\u001b[0m\n\u001b[0;32m     73\u001b[0m \u001b[39mprint\u001b[39m(parents)\n\u001b[0;32m     74\u001b[0m \u001b[39m# print(\u001b[39;00m\n\u001b[0;32m     75\u001b[0m \u001b[39m#    (list(self.nodes.values())[index - 1]).name,\u001b[39;00m\n\u001b[0;32m     76\u001b[0m \u001b[39m#    \" : \",\u001b[39;00m\n\u001b[0;32m     77\u001b[0m \u001b[39m#    str(joints[index]),\u001b[39;00m\n\u001b[0;32m     78\u001b[0m \u001b[39m# )\u001b[39;00m\n\u001b[0;32m     79\u001b[0m \u001b[39mself\u001b[39m\u001b[39m.\u001b[39mnodes\u001b[39m.\u001b[39mupdate(\n\u001b[0;32m     80\u001b[0m     {\n\u001b[0;32m     81\u001b[0m         \u001b[39mstr\u001b[39m(joints[index]): node(\n\u001b[0;32m     82\u001b[0m             \u001b[39mstr\u001b[39m(joints[index]),\n\u001b[0;32m     83\u001b[0m             offsets[index],\n\u001b[0;32m     84\u001b[0m             joint_channels,\n\u001b[0;32m     85\u001b[0m             joint_rotations,\n\u001b[0;32m     86\u001b[0m             \u001b[39mself\u001b[39m\u001b[39m.\u001b[39mnframes,\n\u001b[1;32m---> 87\u001b[0m             parents\u001b[39m=\u001b[39m\u001b[39mlist\u001b[39m(\u001b[39mself\u001b[39m\u001b[39m.\u001b[39mnodes\u001b[39m.\u001b[39mvalues())[parents[index] \u001b[39m-\u001b[39m \u001b[39m1\u001b[39m],\n\u001b[0;32m     88\u001b[0m         ),\n\u001b[0;32m     89\u001b[0m     }\n\u001b[0;32m     90\u001b[0m )\n\u001b[0;32m     91\u001b[0m back_channel_pointer \u001b[39m=\u001b[39m front_channel_pointer\n\u001b[0;32m     92\u001b[0m \u001b[39mself\u001b[39m\u001b[39m.\u001b[39mnodes[joints[index]]\u001b[39m.\u001b[39mcalculate_velocities(\u001b[39mself\u001b[39m\u001b[39m.\u001b[39mnframes)\n",
      "\u001b[1;31mKeyError\u001b[0m: 1"
     ]
    }
   ],
   "source": [
    "from motion.BVH import BVH as BVH\n",
    "from net.quat import quat\n",
    "from net.euler import euler\n",
    "import numpy as np\n",
    "filename = \"./data/Horse/02/run.bvh\"\n",
    "filename2 = \"./data/Human/016/16_16.bvh\"\n",
    "\n",
    "#horse_skeleton = BVH.load(filename)     \n",
    "human_skeleton = BVH.load(filename2)"
   ]
  },
  {
   "cell_type": "code",
   "execution_count": null,
   "metadata": {},
   "outputs": [],
   "source": [
    "def CreateCentaur(human_skeleton, horse_skeleton):\n",
    "    "
   ]
  },
  {
   "cell_type": "code",
   "execution_count": 15,
   "metadata": {},
   "outputs": [
    {
     "data": {
      "text/plain": [
       "{'run': <net.node.node at 0x23e5cdf2650>,\n",
       " 'Spine_01': <net.node.node at 0x23e5cdf27a0>,\n",
       " 'Spine_02': <net.node.node at 0x23e5cdf27d0>,\n",
       " 'Spine_03': <net.node.node at 0x23e5cdf2800>,\n",
       " 'Spine_04': <net.node.node at 0x23e5cdf2830>,\n",
       " 'Neck_Base': <net.node.node at 0x23e5cdf2890>,\n",
       " 'Neck_01': <net.node.node at 0x23e5cdf28c0>,\n",
       " 'Neck_02': <net.node.node at 0x23e5cdf2860>,\n",
       " 'Head': <net.node.node at 0x23e5cdf28f0>,\n",
       " 'L_Ear': <net.node.node at 0x23e5cdf2920>,\n",
       " 'L_Ear_End': <net.node.node at 0x23e5cdf2950>,\n",
       " 'R_Ear': <net.node.node at 0x23e5cdf2980>,\n",
       " 'R_Ear_End': <net.node.node at 0x23e5cdf29b0>,\n",
       " 'Jaw': <net.node.node at 0x23e5cdf29e0>,\n",
       " 'Jaw_End': <net.node.node at 0x23e5cdf2a10>,\n",
       " 'R_Scapula': <net.node.node at 0x23e5cdf2a40>,\n",
       " 'R_Shoulder': <net.node.node at 0x23e5cdf2a70>,\n",
       " 'R_Front_UpperLeg': <net.node.node at 0x23e5cdf2aa0>,\n",
       " 'R_Front_LowerLeg': <net.node.node at 0x23e5cdf2ad0>,\n",
       " 'R_Front_Ankle': <net.node.node at 0x23e5cdf2b00>,\n",
       " 'R_Front_Hoof': <net.node.node at 0x23e5cdf2b30>,\n",
       " 'R_Front_Hoof_End': <net.node.node at 0x23e5cdf2b60>,\n",
       " 'L_Scapula': <net.node.node at 0x23e5cdf2b90>,\n",
       " 'L_Shoulder': <net.node.node at 0x23e5cdf2bc0>,\n",
       " 'L_Front_UpperLeg': <net.node.node at 0x23e5cdf2bf0>,\n",
       " 'L_Front_LowerLeg': <net.node.node at 0x23e5cdf2c20>,\n",
       " 'L_Front_Ankle': <net.node.node at 0x23e5cdf2c50>,\n",
       " 'L_Front_Hoof': <net.node.node at 0x23e5cdf2c80>,\n",
       " 'L_Front_Hoof_End': <net.node.node at 0x23e5cdf2cb0>,\n",
       " 'L_Hip': <net.node.node at 0x23e5cdf2ce0>,\n",
       " 'L_Back_UpperLeg': <net.node.node at 0x23e5cdf2d10>,\n",
       " 'L_Back_LowerLeg': <net.node.node at 0x23e5cdf2d40>,\n",
       " 'L_Back_Ankle': <net.node.node at 0x23e5cdf2d70>,\n",
       " 'L_Back_Hoof': <net.node.node at 0x23e5cdf2da0>,\n",
       " 'L_Back_Hoof_End': <net.node.node at 0x23e5cdf2dd0>,\n",
       " 'R_Hip': <net.node.node at 0x23e5cdf2e00>,\n",
       " 'R_Back_UpperLeg': <net.node.node at 0x23e5cdf2e30>,\n",
       " 'R_Back_LowerLeg': <net.node.node at 0x23e5cdf2e60>,\n",
       " 'R_Back_Ankle': <net.node.node at 0x23e5cdf2e90>,\n",
       " 'R_Back_Hoof': <net.node.node at 0x23e5cdf2ec0>,\n",
       " 'R_Back_Hoof_End': <net.node.node at 0x23e5cdf2ef0>,\n",
       " 'Tail_01': <net.node.node at 0x23e5cdf2f20>,\n",
       " 'Tail_02': <net.node.node at 0x23e5cdf2f50>,\n",
       " 'Tail_03': <net.node.node at 0x23e5cdf2f80>,\n",
       " 'Tail_04': <net.node.node at 0x23e5cdf2fb0>,\n",
       " 'Tail_05': <net.node.node at 0x23e5cdf2fe0>,\n",
       " 'Tail_05_End': <net.node.node at 0x23e5cdf3010>}"
      ]
     },
     "execution_count": 15,
     "metadata": {},
     "output_type": "execute_result"
    }
   ],
   "source": [
    "skeleton.nodes"
   ]
  },
  {
   "cell_type": "code",
   "execution_count": 2,
   "metadata": {},
   "outputs": [],
   "source": [
    "skeleton.calculate_global_positions(skeleton.root)"
   ]
  },
  {
   "cell_type": "code",
   "execution_count": 10,
   "metadata": {},
   "outputs": [
    {
     "data": {
      "text/plain": [
       "[array([ 1.16001989e-01,  1.25063493e+02, -4.75769388e+01]),\n",
       " array([-90.71312507,  89.14749397, -41.57293782]),\n",
       " array([-64.86369553, 101.38568353,  58.46451981]),\n",
       " array([ -50.1340751 ,    4.30481722, -123.98588211]),\n",
       " array([ -27.22844269, -129.67784391,   18.62054265]),\n",
       " array([ -72.46183098, -109.44621779,   25.98584927]),\n",
       " array([-109.39398625,   75.79902897,   13.85347899]),\n",
       " array([72.37956897, 98.32654086, 54.74984253]),\n",
       " array([ -4.45386871, 124.44088376, -48.98045939]),\n",
       " array([  -5.49261978, -126.35378658,  -43.69219205]),\n",
       " array([-74.37982163, -92.52769289, -61.73106255]),\n",
       " array([  78.97694393,   -4.52016479, -107.91972173]),\n",
       " array([ 41.66846396, 126.84990089,  -8.79190845]),\n",
       " array([ 20.22487175,  67.82871151, 113.55472847]),\n",
       " array([111.88260784,  35.31711082,  64.33847718]),\n",
       " array([ 97.63987184,  86.08633309, -30.98474757])]"
      ]
     },
     "execution_count": 10,
     "metadata": {},
     "output_type": "execute_result"
    }
   ],
   "source": [
    "skeleton.root.children[0].positions_local"
   ]
  },
  {
   "cell_type": "code",
   "execution_count": 11,
   "metadata": {},
   "outputs": [
    {
     "data": {
      "text/plain": [
       "[array([ 1.18158003e-01,  1.25064776e+02, -4.75735623e+01]),\n",
       " array([ -55.87934483,   36.13924639, -116.08578548]),\n",
       " array([-128.23551789,   -6.22917388,   37.70020219]),\n",
       " array([  -3.82720669, -122.11492954,  -54.5687857 ]),\n",
       " array([ 39.92149317, 126.27782078,  19.09560846]),\n",
       " array([86.31052043, 90.56143126, 47.47185621]),\n",
       " array([-46.73612774,  26.34803616, 122.58046849]),\n",
       " array([ 81.76666082, -19.50542476, 104.106712  ]),\n",
       " array([ -2.15331023, 122.88122994, -52.91523868]),\n",
       " array([ 87.43525285, 100.52826207,  12.39358643]),\n",
       " array([-39.05239375,  44.82708075, 119.8745147 ]),\n",
       " array([  44.9722378 , -125.9523182 ,   -4.23878132]),\n",
       " array([ 64.95948318, 109.84723351,  40.22818335]),\n",
       " array([ 47.99598355, -98.16497306,  77.2300429 ]),\n",
       " array([  79.73272402,  -22.37416986, -105.10254584]),\n",
       " array([  75.551329  ,   17.37163264, -109.0627295 ])]"
      ]
     },
     "execution_count": 11,
     "metadata": {},
     "output_type": "execute_result"
    }
   ],
   "source": [
    "skeleton.root.children[0].positions_global"
   ]
  }
 ],
 "metadata": {
  "kernelspec": {
   "display_name": "Animotion",
   "language": "python",
   "name": "python3"
  },
  "language_info": {
   "codemirror_mode": {
    "name": "ipython",
    "version": 3
   },
   "file_extension": ".py",
   "mimetype": "text/x-python",
   "name": "python",
   "nbconvert_exporter": "python",
   "pygments_lexer": "ipython3",
   "version": "3.10.12"
  },
  "orig_nbformat": 4
 },
 "nbformat": 4,
 "nbformat_minor": 2
}
